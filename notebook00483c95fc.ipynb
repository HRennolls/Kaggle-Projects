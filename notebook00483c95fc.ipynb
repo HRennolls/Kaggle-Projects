{
 "cells": [
  {
   "cell_type": "code",
   "execution_count": 1,
   "id": "98f1246c",
   "metadata": {
    "_cell_guid": "b1076dfc-b9ad-4769-8c92-a6c4dae69d19",
    "_uuid": "8f2839f25d086af736a60e9eeb907d3b93b6e0e5",
    "execution": {
     "iopub.execute_input": "2022-10-10T18:34:13.761200Z",
     "iopub.status.busy": "2022-10-10T18:34:13.760180Z",
     "iopub.status.idle": "2022-10-10T18:34:13.774744Z",
     "shell.execute_reply": "2022-10-10T18:34:13.773754Z"
    },
    "papermill": {
     "duration": 0.027177,
     "end_time": "2022-10-10T18:34:13.778018",
     "exception": false,
     "start_time": "2022-10-10T18:34:13.750841",
     "status": "completed"
    },
    "tags": []
   },
   "outputs": [
    {
     "name": "stdout",
     "output_type": "stream",
     "text": [
      "/kaggle/input/house-prices-advanced-regression-techniques/sample_submission.csv\n",
      "/kaggle/input/house-prices-advanced-regression-techniques/data_description.txt\n",
      "/kaggle/input/house-prices-advanced-regression-techniques/train.csv\n",
      "/kaggle/input/house-prices-advanced-regression-techniques/test.csv\n"
     ]
    }
   ],
   "source": [
    "# This Python 3 environment comes with many helpful analytics libraries installed\n",
    "# It is defined by the kaggle/python Docker image: https://github.com/kaggle/docker-python\n",
    "# For example, here's several helpful packages to load\n",
    "\n",
    "import numpy as np # linear algebra\n",
    "import pandas as pd # data processing, CSV file I/O (e.g. pd.read_csv)\n",
    "\n",
    "# Input data files are available in the read-only \"../input/\" directory\n",
    "# For example, running this (by clicking run or pressing Shift+Enter) will list all files under the input directory\n",
    "\n",
    "import os\n",
    "for dirname, _, filenames in os.walk('/kaggle/input'):\n",
    "    for filename in filenames:\n",
    "        print(os.path.join(dirname, filename))\n",
    "\n",
    "# You can write up to 20GB to the current directory (/kaggle/working/) that gets preserved as output when you create a version using \"Save & Run All\" \n",
    "# You can also write temporary files to /kaggle/temp/, but they won't be saved outside of the current session"
   ]
  },
  {
   "cell_type": "code",
   "execution_count": 2,
   "id": "40d61972",
   "metadata": {
    "execution": {
     "iopub.execute_input": "2022-10-10T18:34:13.792842Z",
     "iopub.status.busy": "2022-10-10T18:34:13.791798Z",
     "iopub.status.idle": "2022-10-10T18:34:13.872327Z",
     "shell.execute_reply": "2022-10-10T18:34:13.871255Z"
    },
    "papermill": {
     "duration": 0.090807,
     "end_time": "2022-10-10T18:34:13.875159",
     "exception": false,
     "start_time": "2022-10-10T18:34:13.784352",
     "status": "completed"
    },
    "tags": []
   },
   "outputs": [],
   "source": [
    "# Import the training and testing data\n",
    "\n",
    "train = pd.read_csv('../input/house-prices-advanced-regression-techniques/train.csv')\n",
    "itest = pd.read_csv('../input/house-prices-advanced-regression-techniques/test.csv')\n",
    "\n",
    "# Separate dependent and independent variables\n",
    "\n",
    "X_train = train.iloc[:, :-1]\n",
    "y_train = train.iloc[:, -1]\n",
    "\n",
    "X_train = pd.DataFrame(X_train)\n",
    "y_train = pd.DataFrame(y_train)"
   ]
  },
  {
   "cell_type": "code",
   "execution_count": 3,
   "id": "586debe1",
   "metadata": {
    "execution": {
     "iopub.execute_input": "2022-10-10T18:34:13.889195Z",
     "iopub.status.busy": "2022-10-10T18:34:13.888800Z",
     "iopub.status.idle": "2022-10-10T18:34:13.938381Z",
     "shell.execute_reply": "2022-10-10T18:34:13.937190Z"
    },
    "papermill": {
     "duration": 0.059934,
     "end_time": "2022-10-10T18:34:13.941221",
     "exception": false,
     "start_time": "2022-10-10T18:34:13.881287",
     "status": "completed"
    },
    "tags": []
   },
   "outputs": [],
   "source": [
    "def get_numerical(df):\n",
    "    \n",
    "    numerical_features = df.select_dtypes(include=['int64', 'float64']).columns\n",
    "\n",
    "    numerical_df = pd.DataFrame()\n",
    "    for i in numerical_features:\n",
    "        numerical_df[i] = df[i]\n",
    "    return numerical_df\n",
    "\n",
    "X_train = get_numerical(X_train)\n",
    "test = get_numerical(itest)"
   ]
  },
  {
   "cell_type": "code",
   "execution_count": 4,
   "id": "51234f04",
   "metadata": {
    "execution": {
     "iopub.execute_input": "2022-10-10T18:34:13.955656Z",
     "iopub.status.busy": "2022-10-10T18:34:13.955213Z",
     "iopub.status.idle": "2022-10-10T18:34:13.981673Z",
     "shell.execute_reply": "2022-10-10T18:34:13.980483Z"
    },
    "papermill": {
     "duration": 0.037625,
     "end_time": "2022-10-10T18:34:13.985092",
     "exception": false,
     "start_time": "2022-10-10T18:34:13.947467",
     "status": "completed"
    },
    "tags": []
   },
   "outputs": [
    {
     "name": "stdout",
     "output_type": "stream",
     "text": [
      "<class 'pandas.core.frame.DataFrame'>\n",
      "RangeIndex: 1460 entries, 0 to 1459\n",
      "Data columns (total 37 columns):\n",
      " #   Column         Non-Null Count  Dtype  \n",
      "---  ------         --------------  -----  \n",
      " 0   Id             1460 non-null   int64  \n",
      " 1   MSSubClass     1460 non-null   int64  \n",
      " 2   LotFrontage    1201 non-null   float64\n",
      " 3   LotArea        1460 non-null   int64  \n",
      " 4   OverallQual    1460 non-null   int64  \n",
      " 5   OverallCond    1460 non-null   int64  \n",
      " 6   YearBuilt      1460 non-null   int64  \n",
      " 7   YearRemodAdd   1460 non-null   int64  \n",
      " 8   MasVnrArea     1452 non-null   float64\n",
      " 9   BsmtFinSF1     1460 non-null   int64  \n",
      " 10  BsmtFinSF2     1460 non-null   int64  \n",
      " 11  BsmtUnfSF      1460 non-null   int64  \n",
      " 12  TotalBsmtSF    1460 non-null   int64  \n",
      " 13  1stFlrSF       1460 non-null   int64  \n",
      " 14  2ndFlrSF       1460 non-null   int64  \n",
      " 15  LowQualFinSF   1460 non-null   int64  \n",
      " 16  GrLivArea      1460 non-null   int64  \n",
      " 17  BsmtFullBath   1460 non-null   int64  \n",
      " 18  BsmtHalfBath   1460 non-null   int64  \n",
      " 19  FullBath       1460 non-null   int64  \n",
      " 20  HalfBath       1460 non-null   int64  \n",
      " 21  BedroomAbvGr   1460 non-null   int64  \n",
      " 22  KitchenAbvGr   1460 non-null   int64  \n",
      " 23  TotRmsAbvGrd   1460 non-null   int64  \n",
      " 24  Fireplaces     1460 non-null   int64  \n",
      " 25  GarageYrBlt    1379 non-null   float64\n",
      " 26  GarageCars     1460 non-null   int64  \n",
      " 27  GarageArea     1460 non-null   int64  \n",
      " 28  WoodDeckSF     1460 non-null   int64  \n",
      " 29  OpenPorchSF    1460 non-null   int64  \n",
      " 30  EnclosedPorch  1460 non-null   int64  \n",
      " 31  3SsnPorch      1460 non-null   int64  \n",
      " 32  ScreenPorch    1460 non-null   int64  \n",
      " 33  PoolArea       1460 non-null   int64  \n",
      " 34  MiscVal        1460 non-null   int64  \n",
      " 35  MoSold         1460 non-null   int64  \n",
      " 36  YrSold         1460 non-null   int64  \n",
      "dtypes: float64(3), int64(34)\n",
      "memory usage: 422.2 KB\n"
     ]
    }
   ],
   "source": [
    "X_train.info()"
   ]
  },
  {
   "cell_type": "code",
   "execution_count": 5,
   "id": "a867e77d",
   "metadata": {
    "execution": {
     "iopub.execute_input": "2022-10-10T18:34:13.999412Z",
     "iopub.status.busy": "2022-10-10T18:34:13.998936Z",
     "iopub.status.idle": "2022-10-10T18:34:14.015989Z",
     "shell.execute_reply": "2022-10-10T18:34:14.014957Z"
    },
    "papermill": {
     "duration": 0.027435,
     "end_time": "2022-10-10T18:34:14.018742",
     "exception": false,
     "start_time": "2022-10-10T18:34:13.991307",
     "status": "completed"
    },
    "tags": []
   },
   "outputs": [],
   "source": [
    "drop_list = ['MSSubClass', 'BsmtFinSF1', 'BsmtFinSF2', 'BsmtUnfSF', 'MoSold']\n",
    "\n",
    "X_train.drop(drop_list, axis=1, inplace=True)\n",
    "test.drop(drop_list, axis=1, inplace=True)"
   ]
  },
  {
   "cell_type": "code",
   "execution_count": 6,
   "id": "3df7cac2",
   "metadata": {
    "execution": {
     "iopub.execute_input": "2022-10-10T18:34:14.033092Z",
     "iopub.status.busy": "2022-10-10T18:34:14.032680Z",
     "iopub.status.idle": "2022-10-10T18:34:14.050223Z",
     "shell.execute_reply": "2022-10-10T18:34:14.048249Z"
    },
    "papermill": {
     "duration": 0.02847,
     "end_time": "2022-10-10T18:34:14.053555",
     "exception": false,
     "start_time": "2022-10-10T18:34:14.025085",
     "status": "completed"
    },
    "tags": []
   },
   "outputs": [],
   "source": [
    "# Handling 'missing' data\n",
    "\n",
    "for i in X_train:\n",
    "    X_train[i].fillna(0, inplace=True)\n",
    "    test[i].fillna(0, inplace=True)"
   ]
  },
  {
   "cell_type": "code",
   "execution_count": 7,
   "id": "31a2af25",
   "metadata": {
    "execution": {
     "iopub.execute_input": "2022-10-10T18:34:14.067925Z",
     "iopub.status.busy": "2022-10-10T18:34:14.067421Z",
     "iopub.status.idle": "2022-10-10T18:34:14.083976Z",
     "shell.execute_reply": "2022-10-10T18:34:14.081782Z"
    },
    "papermill": {
     "duration": 0.027649,
     "end_time": "2022-10-10T18:34:14.087585",
     "exception": false,
     "start_time": "2022-10-10T18:34:14.059936",
     "status": "completed"
    },
    "tags": []
   },
   "outputs": [
    {
     "name": "stdout",
     "output_type": "stream",
     "text": [
      "<class 'pandas.core.frame.DataFrame'>\n",
      "RangeIndex: 1459 entries, 0 to 1458\n",
      "Data columns (total 32 columns):\n",
      " #   Column         Non-Null Count  Dtype  \n",
      "---  ------         --------------  -----  \n",
      " 0   Id             1459 non-null   int64  \n",
      " 1   LotFrontage    1459 non-null   float64\n",
      " 2   LotArea        1459 non-null   int64  \n",
      " 3   OverallQual    1459 non-null   int64  \n",
      " 4   OverallCond    1459 non-null   int64  \n",
      " 5   YearBuilt      1459 non-null   int64  \n",
      " 6   YearRemodAdd   1459 non-null   int64  \n",
      " 7   MasVnrArea     1459 non-null   float64\n",
      " 8   TotalBsmtSF    1459 non-null   float64\n",
      " 9   1stFlrSF       1459 non-null   int64  \n",
      " 10  2ndFlrSF       1459 non-null   int64  \n",
      " 11  LowQualFinSF   1459 non-null   int64  \n",
      " 12  GrLivArea      1459 non-null   int64  \n",
      " 13  BsmtFullBath   1459 non-null   float64\n",
      " 14  BsmtHalfBath   1459 non-null   float64\n",
      " 15  FullBath       1459 non-null   int64  \n",
      " 16  HalfBath       1459 non-null   int64  \n",
      " 17  BedroomAbvGr   1459 non-null   int64  \n",
      " 18  KitchenAbvGr   1459 non-null   int64  \n",
      " 19  TotRmsAbvGrd   1459 non-null   int64  \n",
      " 20  Fireplaces     1459 non-null   int64  \n",
      " 21  GarageYrBlt    1459 non-null   float64\n",
      " 22  GarageCars     1459 non-null   float64\n",
      " 23  GarageArea     1459 non-null   float64\n",
      " 24  WoodDeckSF     1459 non-null   int64  \n",
      " 25  OpenPorchSF    1459 non-null   int64  \n",
      " 26  EnclosedPorch  1459 non-null   int64  \n",
      " 27  3SsnPorch      1459 non-null   int64  \n",
      " 28  ScreenPorch    1459 non-null   int64  \n",
      " 29  PoolArea       1459 non-null   int64  \n",
      " 30  MiscVal        1459 non-null   int64  \n",
      " 31  YrSold         1459 non-null   int64  \n",
      "dtypes: float64(8), int64(24)\n",
      "memory usage: 364.9 KB\n"
     ]
    }
   ],
   "source": [
    "test.info()"
   ]
  },
  {
   "cell_type": "code",
   "execution_count": null,
   "id": "5b7d17cc",
   "metadata": {
    "papermill": {
     "duration": 0.00889,
     "end_time": "2022-10-10T18:34:14.105476",
     "exception": false,
     "start_time": "2022-10-10T18:34:14.096586",
     "status": "completed"
    },
    "tags": []
   },
   "outputs": [],
   "source": []
  },
  {
   "cell_type": "code",
   "execution_count": 8,
   "id": "fdcadafc",
   "metadata": {
    "execution": {
     "iopub.execute_input": "2022-10-10T18:34:14.122717Z",
     "iopub.status.busy": "2022-10-10T18:34:14.122253Z",
     "iopub.status.idle": "2022-10-10T18:34:15.398893Z",
     "shell.execute_reply": "2022-10-10T18:34:15.397493Z"
    },
    "papermill": {
     "duration": 1.288228,
     "end_time": "2022-10-10T18:34:15.401796",
     "exception": false,
     "start_time": "2022-10-10T18:34:14.113568",
     "status": "completed"
    },
    "tags": []
   },
   "outputs": [],
   "source": [
    "from sklearn.preprocessing import StandardScaler\n",
    "\n",
    "scaler = StandardScaler()\n",
    "X_train = scaler.fit_transform(X_train)\n",
    "test = scaler.transform(test)"
   ]
  },
  {
   "cell_type": "code",
   "execution_count": 9,
   "id": "ac131b41",
   "metadata": {
    "execution": {
     "iopub.execute_input": "2022-10-10T18:34:15.416213Z",
     "iopub.status.busy": "2022-10-10T18:34:15.415737Z",
     "iopub.status.idle": "2022-10-10T18:34:16.001224Z",
     "shell.execute_reply": "2022-10-10T18:34:15.999466Z"
    },
    "papermill": {
     "duration": 0.598438,
     "end_time": "2022-10-10T18:34:16.006611",
     "exception": false,
     "start_time": "2022-10-10T18:34:15.408173",
     "status": "completed"
    },
    "tags": []
   },
   "outputs": [],
   "source": [
    "from sklearn.decomposition import KernelPCA\n",
    "\n",
    "kpca = KernelPCA(n_components = 6, kernel = 'rbf')\n",
    "X_train = kpca.fit_transform(X_train)\n",
    "test = kpca.transform(test)"
   ]
  },
  {
   "cell_type": "code",
   "execution_count": 10,
   "id": "bf480ecf",
   "metadata": {
    "execution": {
     "iopub.execute_input": "2022-10-10T18:34:16.042253Z",
     "iopub.status.busy": "2022-10-10T18:34:16.041470Z",
     "iopub.status.idle": "2022-10-10T18:34:16.058061Z",
     "shell.execute_reply": "2022-10-10T18:34:16.056342Z"
    },
    "papermill": {
     "duration": 0.041156,
     "end_time": "2022-10-10T18:34:16.064666",
     "exception": false,
     "start_time": "2022-10-10T18:34:16.023510",
     "status": "completed"
    },
    "tags": []
   },
   "outputs": [
    {
     "data": {
      "text/plain": [
       "(1459, 6)"
      ]
     },
     "execution_count": 10,
     "metadata": {},
     "output_type": "execute_result"
    }
   ],
   "source": [
    "test.shape"
   ]
  },
  {
   "cell_type": "code",
   "execution_count": 11,
   "id": "3364c39e",
   "metadata": {
    "execution": {
     "iopub.execute_input": "2022-10-10T18:34:16.103412Z",
     "iopub.status.busy": "2022-10-10T18:34:16.102544Z",
     "iopub.status.idle": "2022-10-10T18:34:16.119769Z",
     "shell.execute_reply": "2022-10-10T18:34:16.118085Z"
    },
    "papermill": {
     "duration": 0.039896,
     "end_time": "2022-10-10T18:34:16.123882",
     "exception": false,
     "start_time": "2022-10-10T18:34:16.083986",
     "status": "completed"
    },
    "tags": []
   },
   "outputs": [
    {
     "name": "stdout",
     "output_type": "stream",
     "text": [
      "[0.33112059 0.22310399 0.18493216 0.09655764 0.08528745 0.07899817]\n",
      "[0.33112059 0.55422457 0.73915673 0.83571438 0.92100183 1.        ]\n"
     ]
    }
   ],
   "source": [
    "explained_variance = np.var(X_train, axis=0)\n",
    "explained_variance_ratio = explained_variance / np.sum(explained_variance)\n",
    "print(explained_variance_ratio)\n",
    "print(np.cumsum(explained_variance_ratio))"
   ]
  },
  {
   "cell_type": "code",
   "execution_count": 12,
   "id": "6b3571d3",
   "metadata": {
    "execution": {
     "iopub.execute_input": "2022-10-10T18:34:16.138847Z",
     "iopub.status.busy": "2022-10-10T18:34:16.138415Z",
     "iopub.status.idle": "2022-10-10T18:34:16.146371Z",
     "shell.execute_reply": "2022-10-10T18:34:16.145154Z"
    },
    "papermill": {
     "duration": 0.018331,
     "end_time": "2022-10-10T18:34:16.148787",
     "exception": false,
     "start_time": "2022-10-10T18:34:16.130456",
     "status": "completed"
    },
    "tags": []
   },
   "outputs": [
    {
     "data": {
      "text/plain": [
       "'from sklearn.model_selection import train_test_split\\nX_train, X_test, y_train, y_test = train_test_split(X_train, y_train, test_size = 0.2, random_state = 0)'"
      ]
     },
     "execution_count": 12,
     "metadata": {},
     "output_type": "execute_result"
    }
   ],
   "source": [
    "\"\"\"from sklearn.model_selection import train_test_split\n",
    "X_train, X_test, y_train, y_test = train_test_split(X_train, y_train, test_size = 0.2, random_state = 0)\"\"\""
   ]
  },
  {
   "cell_type": "code",
   "execution_count": 13,
   "id": "d3e4edb1",
   "metadata": {
    "execution": {
     "iopub.execute_input": "2022-10-10T18:34:16.164491Z",
     "iopub.status.busy": "2022-10-10T18:34:16.163740Z",
     "iopub.status.idle": "2022-10-10T18:34:16.921522Z",
     "shell.execute_reply": "2022-10-10T18:34:16.920356Z"
    },
    "papermill": {
     "duration": 0.769385,
     "end_time": "2022-10-10T18:34:16.924559",
     "exception": false,
     "start_time": "2022-10-10T18:34:16.155174",
     "status": "completed"
    },
    "tags": []
   },
   "outputs": [
    {
     "data": {
      "text/plain": [
       "XGBRegressor(base_score=0.5, booster='gbtree', callbacks=None,\n",
       "             colsample_bylevel=1, colsample_bynode=1, colsample_bytree=1,\n",
       "             early_stopping_rounds=None, enable_categorical=False,\n",
       "             eval_metric=None, gamma=0, gpu_id=-1, grow_policy='depthwise',\n",
       "             importance_type=None, interaction_constraints='',\n",
       "             learning_rate=0.300000012, max_bin=256, max_cat_to_onehot=4,\n",
       "             max_delta_step=0, max_depth=6, max_leaves=0, min_child_weight=1,\n",
       "             missing=nan, monotone_constraints='()', n_estimators=100, n_jobs=0,\n",
       "             num_parallel_tree=1, predictor='auto', random_state=0, reg_alpha=0,\n",
       "             reg_lambda=1, ...)"
      ]
     },
     "execution_count": 13,
     "metadata": {},
     "output_type": "execute_result"
    }
   ],
   "source": [
    "from xgboost import XGBRegressor\n",
    "\n",
    "regressor = XGBRegressor()\n",
    "regressor.fit(X_train, y_train)"
   ]
  },
  {
   "cell_type": "code",
   "execution_count": 14,
   "id": "fc2ca0b4",
   "metadata": {
    "execution": {
     "iopub.execute_input": "2022-10-10T18:34:16.941974Z",
     "iopub.status.busy": "2022-10-10T18:34:16.940010Z",
     "iopub.status.idle": "2022-10-10T18:34:16.956906Z",
     "shell.execute_reply": "2022-10-10T18:34:16.955969Z"
    },
    "papermill": {
     "duration": 0.028752,
     "end_time": "2022-10-10T18:34:16.959953",
     "exception": false,
     "start_time": "2022-10-10T18:34:16.931201",
     "status": "completed"
    },
    "tags": []
   },
   "outputs": [
    {
     "data": {
      "text/plain": [
       "'predictions = [round(value) for value in y_pred]\\n# evaluate predictions\\naccuracy = accuracy_score(y_test.values[:, 0], predictions)\\nprint(\"Accuracy: %.2f%%\" % (accuracy * 100.0))'"
      ]
     },
     "execution_count": 14,
     "metadata": {},
     "output_type": "execute_result"
    }
   ],
   "source": [
    "from sklearn.metrics import accuracy_score\n",
    "\n",
    "\n",
    "y_pred = regressor.predict(X_train)\n",
    "\n",
    "\n",
    "\"\"\"predictions = [round(value) for value in y_pred]\n",
    "# evaluate predictions\n",
    "accuracy = accuracy_score(y_test.values[:, 0], predictions)\n",
    "print(\"Accuracy: %.2f%%\" % (accuracy * 100.0))\"\"\""
   ]
  },
  {
   "cell_type": "code",
   "execution_count": 15,
   "id": "b761862e",
   "metadata": {
    "execution": {
     "iopub.execute_input": "2022-10-10T18:34:16.976811Z",
     "iopub.status.busy": "2022-10-10T18:34:16.976393Z",
     "iopub.status.idle": "2022-10-10T18:34:16.984921Z",
     "shell.execute_reply": "2022-10-10T18:34:16.983772Z"
    },
    "papermill": {
     "duration": 0.019937,
     "end_time": "2022-10-10T18:34:16.987762",
     "exception": false,
     "start_time": "2022-10-10T18:34:16.967825",
     "status": "completed"
    },
    "tags": []
   },
   "outputs": [
    {
     "data": {
      "text/plain": [
       "array([[ 0.3134728 ,  0.04080175, -0.0722223 ,  0.00134294,  0.06674517,\n",
       "        -0.03932772],\n",
       "       [-0.02488274, -0.38763212, -0.09070261,  0.12765423, -0.05706915,\n",
       "         0.02538209],\n",
       "       [-0.1638187 ,  0.17134803,  0.28777561,  0.04831689,  0.09189091,\n",
       "         0.00864172],\n",
       "       ...,\n",
       "       [-0.01714351, -0.24947814, -0.11287854,  0.01841256,  0.01530754,\n",
       "         0.14958643],\n",
       "       [ 0.04036815, -0.35529018, -0.07922728,  0.13976762, -0.13326523,\n",
       "         0.08449599],\n",
       "       [-0.21661201, -0.18240067,  0.10968573, -0.00501448, -0.09574609,\n",
       "         0.22765088]])"
      ]
     },
     "execution_count": 15,
     "metadata": {},
     "output_type": "execute_result"
    }
   ],
   "source": [
    "test"
   ]
  },
  {
   "cell_type": "code",
   "execution_count": 16,
   "id": "445cd86e",
   "metadata": {
    "execution": {
     "iopub.execute_input": "2022-10-10T18:34:17.004183Z",
     "iopub.status.busy": "2022-10-10T18:34:17.003779Z",
     "iopub.status.idle": "2022-10-10T18:34:17.009139Z",
     "shell.execute_reply": "2022-10-10T18:34:17.007711Z"
    },
    "papermill": {
     "duration": 0.016429,
     "end_time": "2022-10-10T18:34:17.011811",
     "exception": false,
     "start_time": "2022-10-10T18:34:16.995382",
     "status": "completed"
    },
    "tags": []
   },
   "outputs": [],
   "source": [
    "y_pred = pd.DataFrame(y_pred)"
   ]
  },
  {
   "cell_type": "code",
   "execution_count": 17,
   "id": "f3c6f2ad",
   "metadata": {
    "execution": {
     "iopub.execute_input": "2022-10-10T18:34:17.028121Z",
     "iopub.status.busy": "2022-10-10T18:34:17.026986Z",
     "iopub.status.idle": "2022-10-10T18:34:17.044577Z",
     "shell.execute_reply": "2022-10-10T18:34:17.043260Z"
    },
    "papermill": {
     "duration": 0.028796,
     "end_time": "2022-10-10T18:34:17.047484",
     "exception": false,
     "start_time": "2022-10-10T18:34:17.018688",
     "status": "completed"
    },
    "tags": []
   },
   "outputs": [
    {
     "data": {
      "text/html": [
       "<div>\n",
       "<style scoped>\n",
       "    .dataframe tbody tr th:only-of-type {\n",
       "        vertical-align: middle;\n",
       "    }\n",
       "\n",
       "    .dataframe tbody tr th {\n",
       "        vertical-align: top;\n",
       "    }\n",
       "\n",
       "    .dataframe thead th {\n",
       "        text-align: right;\n",
       "    }\n",
       "</style>\n",
       "<table border=\"1\" class=\"dataframe\">\n",
       "  <thead>\n",
       "    <tr style=\"text-align: right;\">\n",
       "      <th></th>\n",
       "      <th>0</th>\n",
       "    </tr>\n",
       "  </thead>\n",
       "  <tbody>\n",
       "    <tr>\n",
       "      <th>0</th>\n",
       "      <td>215432.906250</td>\n",
       "    </tr>\n",
       "    <tr>\n",
       "      <th>1</th>\n",
       "      <td>177154.281250</td>\n",
       "    </tr>\n",
       "    <tr>\n",
       "      <th>2</th>\n",
       "      <td>219153.171875</td>\n",
       "    </tr>\n",
       "    <tr>\n",
       "      <th>3</th>\n",
       "      <td>137605.953125</td>\n",
       "    </tr>\n",
       "    <tr>\n",
       "      <th>4</th>\n",
       "      <td>251079.921875</td>\n",
       "    </tr>\n",
       "    <tr>\n",
       "      <th>...</th>\n",
       "      <td>...</td>\n",
       "    </tr>\n",
       "    <tr>\n",
       "      <th>1455</th>\n",
       "      <td>174324.937500</td>\n",
       "    </tr>\n",
       "    <tr>\n",
       "      <th>1456</th>\n",
       "      <td>210581.609375</td>\n",
       "    </tr>\n",
       "    <tr>\n",
       "      <th>1457</th>\n",
       "      <td>253208.437500</td>\n",
       "    </tr>\n",
       "    <tr>\n",
       "      <th>1458</th>\n",
       "      <td>140974.968750</td>\n",
       "    </tr>\n",
       "    <tr>\n",
       "      <th>1459</th>\n",
       "      <td>150963.890625</td>\n",
       "    </tr>\n",
       "  </tbody>\n",
       "</table>\n",
       "<p>1460 rows × 1 columns</p>\n",
       "</div>"
      ],
      "text/plain": [
       "                  0\n",
       "0     215432.906250\n",
       "1     177154.281250\n",
       "2     219153.171875\n",
       "3     137605.953125\n",
       "4     251079.921875\n",
       "...             ...\n",
       "1455  174324.937500\n",
       "1456  210581.609375\n",
       "1457  253208.437500\n",
       "1458  140974.968750\n",
       "1459  150963.890625\n",
       "\n",
       "[1460 rows x 1 columns]"
      ]
     },
     "execution_count": 17,
     "metadata": {},
     "output_type": "execute_result"
    }
   ],
   "source": [
    "y_pred"
   ]
  },
  {
   "cell_type": "code",
   "execution_count": 18,
   "id": "4715b989",
   "metadata": {
    "execution": {
     "iopub.execute_input": "2022-10-10T18:34:17.064002Z",
     "iopub.status.busy": "2022-10-10T18:34:17.063575Z",
     "iopub.status.idle": "2022-10-10T18:34:17.071116Z",
     "shell.execute_reply": "2022-10-10T18:34:17.069834Z"
    },
    "papermill": {
     "duration": 0.018876,
     "end_time": "2022-10-10T18:34:17.073710",
     "exception": false,
     "start_time": "2022-10-10T18:34:17.054834",
     "status": "completed"
    },
    "tags": []
   },
   "outputs": [],
   "source": [
    "y_pred['Id'] = [i for i in range(1461, 2921)]"
   ]
  },
  {
   "cell_type": "code",
   "execution_count": 19,
   "id": "237d5c3f",
   "metadata": {
    "execution": {
     "iopub.execute_input": "2022-10-10T18:34:17.090391Z",
     "iopub.status.busy": "2022-10-10T18:34:17.089943Z",
     "iopub.status.idle": "2022-10-10T18:34:17.096546Z",
     "shell.execute_reply": "2022-10-10T18:34:17.094791Z"
    },
    "papermill": {
     "duration": 0.018331,
     "end_time": "2022-10-10T18:34:17.099114",
     "exception": false,
     "start_time": "2022-10-10T18:34:17.080783",
     "status": "completed"
    },
    "tags": []
   },
   "outputs": [],
   "source": [
    "y_pred.set_index('Id', inplace=True)"
   ]
  },
  {
   "cell_type": "code",
   "execution_count": 20,
   "id": "a3ad614d",
   "metadata": {
    "execution": {
     "iopub.execute_input": "2022-10-10T18:34:17.115541Z",
     "iopub.status.busy": "2022-10-10T18:34:17.114855Z",
     "iopub.status.idle": "2022-10-10T18:34:17.120820Z",
     "shell.execute_reply": "2022-10-10T18:34:17.119691Z"
    },
    "papermill": {
     "duration": 0.017367,
     "end_time": "2022-10-10T18:34:17.123747",
     "exception": false,
     "start_time": "2022-10-10T18:34:17.106380",
     "status": "completed"
    },
    "tags": []
   },
   "outputs": [],
   "source": [
    "y_pred.rename(columns={0: 'SalePrice'}, inplace=True)"
   ]
  },
  {
   "cell_type": "code",
   "execution_count": 21,
   "id": "23b06630",
   "metadata": {
    "execution": {
     "iopub.execute_input": "2022-10-10T18:34:17.140013Z",
     "iopub.status.busy": "2022-10-10T18:34:17.139550Z",
     "iopub.status.idle": "2022-10-10T18:34:17.151584Z",
     "shell.execute_reply": "2022-10-10T18:34:17.150364Z"
    },
    "papermill": {
     "duration": 0.023318,
     "end_time": "2022-10-10T18:34:17.154609",
     "exception": false,
     "start_time": "2022-10-10T18:34:17.131291",
     "status": "completed"
    },
    "tags": []
   },
   "outputs": [],
   "source": [
    "y_pred.to_csv('predictions.csv')"
   ]
  },
  {
   "cell_type": "code",
   "execution_count": null,
   "id": "0a963161",
   "metadata": {
    "papermill": {
     "duration": 0.00684,
     "end_time": "2022-10-10T18:34:17.168830",
     "exception": false,
     "start_time": "2022-10-10T18:34:17.161990",
     "status": "completed"
    },
    "tags": []
   },
   "outputs": [],
   "source": []
  }
 ],
 "metadata": {
  "kernelspec": {
   "display_name": "Python 3",
   "language": "python",
   "name": "python3"
  },
  "language_info": {
   "codemirror_mode": {
    "name": "ipython",
    "version": 3
   },
   "file_extension": ".py",
   "mimetype": "text/x-python",
   "name": "python",
   "nbconvert_exporter": "python",
   "pygments_lexer": "ipython3",
   "version": "3.7.12"
  },
  "papermill": {
   "default_parameters": {},
   "duration": 14.48666,
   "end_time": "2022-10-10T18:34:17.998684",
   "environment_variables": {},
   "exception": null,
   "input_path": "__notebook__.ipynb",
   "output_path": "__notebook__.ipynb",
   "parameters": {},
   "start_time": "2022-10-10T18:34:03.512024",
   "version": "2.3.4"
  }
 },
 "nbformat": 4,
 "nbformat_minor": 5
}
