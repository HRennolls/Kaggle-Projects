{
 "cells": [
  {
   "cell_type": "code",
   "execution_count": 1,
   "id": "4b813316",
   "metadata": {
    "_cell_guid": "b1076dfc-b9ad-4769-8c92-a6c4dae69d19",
    "_uuid": "8f2839f25d086af736a60e9eeb907d3b93b6e0e5",
    "execution": {
     "iopub.execute_input": "2022-10-06T18:01:34.695853Z",
     "iopub.status.busy": "2022-10-06T18:01:34.694933Z",
     "iopub.status.idle": "2022-10-06T18:01:34.707592Z",
     "shell.execute_reply": "2022-10-06T18:01:34.706693Z"
    },
    "papermill": {
     "duration": 0.021041,
     "end_time": "2022-10-06T18:01:34.710544",
     "exception": false,
     "start_time": "2022-10-06T18:01:34.689503",
     "status": "completed"
    },
    "tags": []
   },
   "outputs": [
    {
     "name": "stdout",
     "output_type": "stream",
     "text": [
      "/kaggle/input/digit-recognizer/sample_submission.csv\n",
      "/kaggle/input/digit-recognizer/train.csv\n",
      "/kaggle/input/digit-recognizer/test.csv\n"
     ]
    }
   ],
   "source": [
    "# This Python 3 environment comes with many helpful analytics libraries installed\n",
    "# It is defined by the kaggle/python Docker image: https://github.com/kaggle/docker-python\n",
    "# For example, here's several helpful packages to load\n",
    "\n",
    "import numpy as np # linear algebra\n",
    "import pandas as pd # data processing, CSV file I/O (e.g. pd.read_csv)\n",
    "\n",
    "# Input data files are available in the read-only \"../input/\" directory\n",
    "# For example, running this (by clicking run or pressing Shift+Enter) will list all files under the input directory\n",
    "\n",
    "import os\n",
    "for dirname, _, filenames in os.walk('/kaggle/input'):\n",
    "    for filename in filenames:\n",
    "        print(os.path.join(dirname, filename))\n",
    "\n",
    "# You can write up to 20GB to the current directory (/kaggle/working/) that gets preserved as output when you create a version using \"Save & Run All\" \n",
    "# You can also write temporary files to /kaggle/temp/, but they won't be saved outside of the current session"
   ]
  },
  {
   "cell_type": "code",
   "execution_count": 2,
   "id": "32d9d083",
   "metadata": {
    "execution": {
     "iopub.execute_input": "2022-10-06T18:01:34.719460Z",
     "iopub.status.busy": "2022-10-06T18:01:34.718711Z",
     "iopub.status.idle": "2022-10-06T18:01:39.250650Z",
     "shell.execute_reply": "2022-10-06T18:01:39.249635Z"
    },
    "papermill": {
     "duration": 4.538307,
     "end_time": "2022-10-06T18:01:39.253027",
     "exception": false,
     "start_time": "2022-10-06T18:01:34.714720",
     "status": "completed"
    },
    "tags": []
   },
   "outputs": [],
   "source": [
    "import tensorflow as tf\n",
    "from keras.preprocessing.image import ImageDataGenerator"
   ]
  },
  {
   "cell_type": "code",
   "execution_count": 3,
   "id": "c37704f1",
   "metadata": {
    "execution": {
     "iopub.execute_input": "2022-10-06T18:01:39.261495Z",
     "iopub.status.busy": "2022-10-06T18:01:39.260934Z",
     "iopub.status.idle": "2022-10-06T18:01:43.816913Z",
     "shell.execute_reply": "2022-10-06T18:01:43.815943Z"
    },
    "papermill": {
     "duration": 4.562783,
     "end_time": "2022-10-06T18:01:43.819352",
     "exception": false,
     "start_time": "2022-10-06T18:01:39.256569",
     "status": "completed"
    },
    "tags": []
   },
   "outputs": [],
   "source": [
    "x_train = pd.read_csv(\"../input/digit-recognizer/train.csv\")\n",
    "x_test = pd.read_csv(\"../input/digit-recognizer/test.csv\")"
   ]
  },
  {
   "cell_type": "code",
   "execution_count": 4,
   "id": "cf591653",
   "metadata": {
    "execution": {
     "iopub.execute_input": "2022-10-06T18:01:43.829444Z",
     "iopub.status.busy": "2022-10-06T18:01:43.829146Z",
     "iopub.status.idle": "2022-10-06T18:01:44.803773Z",
     "shell.execute_reply": "2022-10-06T18:01:44.802590Z"
    },
    "papermill": {
     "duration": 0.982405,
     "end_time": "2022-10-06T18:01:44.806635",
     "exception": false,
     "start_time": "2022-10-06T18:01:43.824230",
     "status": "completed"
    },
    "tags": []
   },
   "outputs": [],
   "source": [
    "X = x_train.values\n",
    "\n",
    "y = X[:, 0]\n",
    "X = X[:, 1:]\n",
    "\n",
    "\n",
    "from sklearn.model_selection import train_test_split\n",
    "\n",
    "train_size=0.8\n",
    "\n",
    "X_train, X_valid, y_train, y_valid = train_test_split(X,y, train_size=0.8)"
   ]
  },
  {
   "cell_type": "code",
   "execution_count": 5,
   "id": "4f975bbe",
   "metadata": {
    "execution": {
     "iopub.execute_input": "2022-10-06T18:01:44.815935Z",
     "iopub.status.busy": "2022-10-06T18:01:44.815609Z",
     "iopub.status.idle": "2022-10-06T18:01:44.824198Z",
     "shell.execute_reply": "2022-10-06T18:01:44.823186Z"
    },
    "papermill": {
     "duration": 0.01633,
     "end_time": "2022-10-06T18:01:44.826988",
     "exception": false,
     "start_time": "2022-10-06T18:01:44.810658",
     "status": "completed"
    },
    "tags": []
   },
   "outputs": [
    {
     "data": {
      "text/plain": [
       "(8400, 784)"
      ]
     },
     "execution_count": 5,
     "metadata": {},
     "output_type": "execute_result"
    }
   ],
   "source": [
    "X_valid.shape"
   ]
  },
  {
   "cell_type": "code",
   "execution_count": 6,
   "id": "98bb03ce",
   "metadata": {
    "execution": {
     "iopub.execute_input": "2022-10-06T18:01:44.837080Z",
     "iopub.status.busy": "2022-10-06T18:01:44.835541Z",
     "iopub.status.idle": "2022-10-06T18:01:44.842373Z",
     "shell.execute_reply": "2022-10-06T18:01:44.841461Z"
    },
    "papermill": {
     "duration": 0.013578,
     "end_time": "2022-10-06T18:01:44.844423",
     "exception": false,
     "start_time": "2022-10-06T18:01:44.830845",
     "status": "completed"
    },
    "tags": []
   },
   "outputs": [],
   "source": [
    "test = x_test.values\n",
    "test = test[:, np.newaxis]\n",
    "\n",
    "X_train = X_train.reshape(len(X_train), 28, 28, 1)\n",
    "X_valid = X_valid.reshape(len(X_valid), 28, 28, 1)\n",
    "\n",
    "test = test.reshape(len(test), 28, 28, 1)"
   ]
  },
  {
   "cell_type": "code",
   "execution_count": 7,
   "id": "998bc03c",
   "metadata": {
    "execution": {
     "iopub.execute_input": "2022-10-06T18:01:44.853190Z",
     "iopub.status.busy": "2022-10-06T18:01:44.852881Z",
     "iopub.status.idle": "2022-10-06T18:01:47.522405Z",
     "shell.execute_reply": "2022-10-06T18:01:47.521479Z"
    },
    "papermill": {
     "duration": 2.676337,
     "end_time": "2022-10-06T18:01:47.524537",
     "exception": false,
     "start_time": "2022-10-06T18:01:44.848200",
     "status": "completed"
    },
    "tags": []
   },
   "outputs": [
    {
     "name": "stderr",
     "output_type": "stream",
     "text": [
      "2022-10-06 18:01:45.188188: I tensorflow/stream_executor/cuda/cuda_gpu_executor.cc:937] successful NUMA node read from SysFS had negative value (-1), but there must be at least one NUMA node, so returning NUMA node zero\n",
      "2022-10-06 18:01:45.268063: I tensorflow/stream_executor/cuda/cuda_gpu_executor.cc:937] successful NUMA node read from SysFS had negative value (-1), but there must be at least one NUMA node, so returning NUMA node zero\n",
      "2022-10-06 18:01:45.268858: I tensorflow/stream_executor/cuda/cuda_gpu_executor.cc:937] successful NUMA node read from SysFS had negative value (-1), but there must be at least one NUMA node, so returning NUMA node zero\n",
      "2022-10-06 18:01:45.269978: I tensorflow/core/platform/cpu_feature_guard.cc:142] This TensorFlow binary is optimized with oneAPI Deep Neural Network Library (oneDNN) to use the following CPU instructions in performance-critical operations:  AVX2 AVX512F FMA\n",
      "To enable them in other operations, rebuild TensorFlow with the appropriate compiler flags.\n",
      "2022-10-06 18:01:45.270279: I tensorflow/stream_executor/cuda/cuda_gpu_executor.cc:937] successful NUMA node read from SysFS had negative value (-1), but there must be at least one NUMA node, so returning NUMA node zero\n",
      "2022-10-06 18:01:45.270960: I tensorflow/stream_executor/cuda/cuda_gpu_executor.cc:937] successful NUMA node read from SysFS had negative value (-1), but there must be at least one NUMA node, so returning NUMA node zero\n",
      "2022-10-06 18:01:45.271596: I tensorflow/stream_executor/cuda/cuda_gpu_executor.cc:937] successful NUMA node read from SysFS had negative value (-1), but there must be at least one NUMA node, so returning NUMA node zero\n",
      "2022-10-06 18:01:47.065087: I tensorflow/stream_executor/cuda/cuda_gpu_executor.cc:937] successful NUMA node read from SysFS had negative value (-1), but there must be at least one NUMA node, so returning NUMA node zero\n",
      "2022-10-06 18:01:47.065970: I tensorflow/stream_executor/cuda/cuda_gpu_executor.cc:937] successful NUMA node read from SysFS had negative value (-1), but there must be at least one NUMA node, so returning NUMA node zero\n",
      "2022-10-06 18:01:47.066717: I tensorflow/stream_executor/cuda/cuda_gpu_executor.cc:937] successful NUMA node read from SysFS had negative value (-1), but there must be at least one NUMA node, so returning NUMA node zero\n",
      "2022-10-06 18:01:47.067513: I tensorflow/core/common_runtime/gpu/gpu_device.cc:1510] Created device /job:localhost/replica:0/task:0/device:GPU:0 with 15401 MB memory:  -> device: 0, name: Tesla P100-PCIE-16GB, pci bus id: 0000:00:04.0, compute capability: 6.0\n"
     ]
    }
   ],
   "source": [
    "from tensorflow.keras import layers\n",
    "from tensorflow.keras.layers.experimental import preprocessing\n",
    "\n",
    "\n",
    "cnn = tf.keras.models.Sequential([\n",
    "    layers.InputLayer(input_shape=[28, 28, 1]),\n",
    "    \n",
    "    #preprocessing.RandomWidth(factor=0.15),\n",
    "    #preprocessing.RandomHeight(factor=0.15),\n",
    "    #preprocessing.RandomTranslation(height_factor=0.1, width_factor=0.1),\n",
    "    \n",
    "    layers.BatchNormalization(renorm=True),\n",
    "    layers.Conv2D(filters=16, kernel_size=3,activation='relu'),\n",
    "    layers.MaxPool2D(pool_size=2,strides=2, padding='same'),\n",
    "    \n",
    "\n",
    "    layers.BatchNormalization(renorm=True),\n",
    "    layers.Conv2D(filters=16, kernel_size=3,activation='relu'),\n",
    "    layers.MaxPool2D(pool_size=2,strides=2, padding='same'),\n",
    "    \n",
    "    \n",
    "    layers.BatchNormalization(renorm=True),\n",
    "    layers.Flatten(),\n",
    "    \n",
    "    layers.Dropout(0.3),\n",
    "    layers.Dense(units=128,activation='relu'),\n",
    "    layers.Dropout(0.3),\n",
    "    layers.Dense(units=128,activation='relu'),\n",
    "    layers.Dense(units=10,activation='softmax')\n",
    "])"
   ]
  },
  {
   "cell_type": "code",
   "execution_count": 8,
   "id": "d7dc6e52",
   "metadata": {
    "execution": {
     "iopub.execute_input": "2022-10-06T18:01:47.533204Z",
     "iopub.status.busy": "2022-10-06T18:01:47.532903Z",
     "iopub.status.idle": "2022-10-06T18:01:47.538414Z",
     "shell.execute_reply": "2022-10-06T18:01:47.537398Z"
    },
    "papermill": {
     "duration": 0.012078,
     "end_time": "2022-10-06T18:01:47.540496",
     "exception": false,
     "start_time": "2022-10-06T18:01:47.528418",
     "status": "completed"
    },
    "tags": []
   },
   "outputs": [],
   "source": [
    "from tensorflow.keras.callbacks import EarlyStopping\n",
    "\n",
    "early_stopping = EarlyStopping(\n",
    "    min_delta=0.001, # minimium amount of change to count as an improvement\n",
    "    patience=10, # how many epochs to wait before stopping\n",
    "    restore_best_weights=True,\n",
    ")"
   ]
  },
  {
   "cell_type": "code",
   "execution_count": 9,
   "id": "32b5d625",
   "metadata": {
    "execution": {
     "iopub.execute_input": "2022-10-06T18:01:47.548587Z",
     "iopub.status.busy": "2022-10-06T18:01:47.548334Z",
     "iopub.status.idle": "2022-10-06T18:01:47.559877Z",
     "shell.execute_reply": "2022-10-06T18:01:47.559048Z"
    },
    "papermill": {
     "duration": 0.017987,
     "end_time": "2022-10-06T18:01:47.561915",
     "exception": false,
     "start_time": "2022-10-06T18:01:47.543928",
     "status": "completed"
    },
    "tags": []
   },
   "outputs": [],
   "source": [
    "#compiling\n",
    "cnn.compile(\n",
    "    optimizer='adam',\n",
    "    loss='sparse_categorical_crossentropy',\n",
    "    metrics=['accuracy'])"
   ]
  },
  {
   "cell_type": "code",
   "execution_count": 10,
   "id": "0315a4a2",
   "metadata": {
    "execution": {
     "iopub.execute_input": "2022-10-06T18:01:47.570543Z",
     "iopub.status.busy": "2022-10-06T18:01:47.569637Z",
     "iopub.status.idle": "2022-10-06T18:05:11.270295Z",
     "shell.execute_reply": "2022-10-06T18:05:11.269263Z"
    },
    "papermill": {
     "duration": 203.710966,
     "end_time": "2022-10-06T18:05:11.276363",
     "exception": false,
     "start_time": "2022-10-06T18:01:47.565397",
     "status": "completed"
    },
    "tags": []
   },
   "outputs": [
    {
     "name": "stderr",
     "output_type": "stream",
     "text": [
      "2022-10-06 18:01:48.026500: I tensorflow/compiler/mlir/mlir_graph_optimization_pass.cc:185] None of the MLIR Optimization Passes are enabled (registered 2)\n"
     ]
    },
    {
     "name": "stdout",
     "output_type": "stream",
     "text": [
      "Epoch 1/100\n"
     ]
    },
    {
     "name": "stderr",
     "output_type": "stream",
     "text": [
      "2022-10-06 18:01:49.852203: I tensorflow/stream_executor/cuda/cuda_dnn.cc:369] Loaded cuDNN version 8005\n"
     ]
    },
    {
     "name": "stdout",
     "output_type": "stream",
     "text": [
      "1050/1050 [==============================] - 12s 5ms/step - loss: 0.4759 - accuracy: 0.8730 - val_loss: 0.0800 - val_accuracy: 0.9771\n",
      "Epoch 2/100\n",
      "1050/1050 [==============================] - 5s 5ms/step - loss: 0.1186 - accuracy: 0.9636 - val_loss: 0.0650 - val_accuracy: 0.9811\n",
      "Epoch 3/100\n",
      "1050/1050 [==============================] - 5s 5ms/step - loss: 0.0949 - accuracy: 0.9704 - val_loss: 0.0621 - val_accuracy: 0.9817\n",
      "Epoch 4/100\n",
      "1050/1050 [==============================] - 5s 5ms/step - loss: 0.0836 - accuracy: 0.9744 - val_loss: 0.0490 - val_accuracy: 0.9860\n",
      "Epoch 5/100\n",
      "1050/1050 [==============================] - 5s 4ms/step - loss: 0.0713 - accuracy: 0.9774 - val_loss: 0.0475 - val_accuracy: 0.9857\n",
      "Epoch 6/100\n",
      "1050/1050 [==============================] - 5s 5ms/step - loss: 0.0703 - accuracy: 0.9782 - val_loss: 0.0441 - val_accuracy: 0.9865\n",
      "Epoch 7/100\n",
      "1050/1050 [==============================] - 5s 4ms/step - loss: 0.0581 - accuracy: 0.9827 - val_loss: 0.0440 - val_accuracy: 0.9869\n",
      "Epoch 8/100\n",
      "1050/1050 [==============================] - 4s 4ms/step - loss: 0.0530 - accuracy: 0.9834 - val_loss: 0.0515 - val_accuracy: 0.9871\n",
      "Epoch 9/100\n",
      "1050/1050 [==============================] - 5s 5ms/step - loss: 0.0578 - accuracy: 0.9825 - val_loss: 0.0407 - val_accuracy: 0.9875\n",
      "Epoch 10/100\n",
      "1050/1050 [==============================] - 4s 4ms/step - loss: 0.0471 - accuracy: 0.9855 - val_loss: 0.0437 - val_accuracy: 0.9892\n",
      "Epoch 11/100\n",
      "1050/1050 [==============================] - 5s 5ms/step - loss: 0.0418 - accuracy: 0.9867 - val_loss: 0.0455 - val_accuracy: 0.9873\n",
      "Epoch 12/100\n",
      "1050/1050 [==============================] - 5s 4ms/step - loss: 0.0436 - accuracy: 0.9861 - val_loss: 0.0469 - val_accuracy: 0.9868\n",
      "Epoch 13/100\n",
      "1050/1050 [==============================] - 5s 5ms/step - loss: 0.0431 - accuracy: 0.9867 - val_loss: 0.0433 - val_accuracy: 0.9892\n",
      "Epoch 14/100\n",
      "1050/1050 [==============================] - 4s 4ms/step - loss: 0.0383 - accuracy: 0.9880 - val_loss: 0.0357 - val_accuracy: 0.9887\n",
      "Epoch 15/100\n",
      "1050/1050 [==============================] - 4s 4ms/step - loss: 0.0393 - accuracy: 0.9878 - val_loss: 0.0427 - val_accuracy: 0.9889\n",
      "Epoch 16/100\n",
      "1050/1050 [==============================] - 5s 4ms/step - loss: 0.0333 - accuracy: 0.9892 - val_loss: 0.0355 - val_accuracy: 0.9907\n",
      "Epoch 17/100\n",
      "1050/1050 [==============================] - 4s 4ms/step - loss: 0.0361 - accuracy: 0.9885 - val_loss: 0.0401 - val_accuracy: 0.9898\n",
      "Epoch 18/100\n",
      "1050/1050 [==============================] - 5s 5ms/step - loss: 0.0323 - accuracy: 0.9900 - val_loss: 0.0413 - val_accuracy: 0.9898\n",
      "Epoch 19/100\n",
      "1050/1050 [==============================] - 5s 4ms/step - loss: 0.0330 - accuracy: 0.9895 - val_loss: 0.0369 - val_accuracy: 0.9901\n",
      "Epoch 20/100\n",
      "1050/1050 [==============================] - 5s 5ms/step - loss: 0.0321 - accuracy: 0.9897 - val_loss: 0.0341 - val_accuracy: 0.9913\n",
      "Epoch 21/100\n",
      "1050/1050 [==============================] - 4s 4ms/step - loss: 0.0284 - accuracy: 0.9909 - val_loss: 0.0374 - val_accuracy: 0.9899\n",
      "Epoch 22/100\n",
      "1050/1050 [==============================] - 4s 4ms/step - loss: 0.0314 - accuracy: 0.9898 - val_loss: 0.0375 - val_accuracy: 0.9899\n",
      "Epoch 23/100\n",
      "1050/1050 [==============================] - 5s 4ms/step - loss: 0.0301 - accuracy: 0.9906 - val_loss: 0.0366 - val_accuracy: 0.9900\n",
      "Epoch 24/100\n",
      "1050/1050 [==============================] - 5s 4ms/step - loss: 0.0264 - accuracy: 0.9918 - val_loss: 0.0366 - val_accuracy: 0.9902\n",
      "Epoch 25/100\n",
      "1050/1050 [==============================] - 5s 5ms/step - loss: 0.0243 - accuracy: 0.9925 - val_loss: 0.0331 - val_accuracy: 0.9917\n",
      "Epoch 26/100\n",
      "1050/1050 [==============================] - 5s 4ms/step - loss: 0.0270 - accuracy: 0.9917 - val_loss: 0.0426 - val_accuracy: 0.9895\n",
      "Epoch 27/100\n",
      "1050/1050 [==============================] - 5s 5ms/step - loss: 0.0282 - accuracy: 0.9914 - val_loss: 0.0400 - val_accuracy: 0.9894\n",
      "Epoch 28/100\n",
      "1050/1050 [==============================] - 5s 4ms/step - loss: 0.0267 - accuracy: 0.9919 - val_loss: 0.0347 - val_accuracy: 0.9911\n",
      "Epoch 29/100\n",
      "1050/1050 [==============================] - 5s 4ms/step - loss: 0.0237 - accuracy: 0.9922 - val_loss: 0.0377 - val_accuracy: 0.9904\n",
      "Epoch 30/100\n",
      "1050/1050 [==============================] - 5s 4ms/step - loss: 0.0253 - accuracy: 0.9921 - val_loss: 0.0450 - val_accuracy: 0.9889\n"
     ]
    },
    {
     "data": {
      "text/plain": [
       "<AxesSubplot:>"
      ]
     },
     "execution_count": 10,
     "metadata": {},
     "output_type": "execute_result"
    },
    {
     "data": {
      "image/png": "[encoded data removed]",
      "text/plain": [
       "<Figure size 432x288 with 1 Axes>"
      ]
     },
     "metadata": {
      "needs_background": "light"
     },
     "output_type": "display_data"
    }
   ],
   "source": [
    "#training\n",
    "history = cnn.fit(\n",
    "    x=X_train,\n",
    "    y=y_train,\n",
    "    validation_data=(X_valid, y_valid),\n",
    "    batch_size=32,\n",
    "    callbacks=[early_stopping],\n",
    "    epochs=100)\n",
    "\n",
    "history_frame = pd.DataFrame(history.history)\n",
    "history_frame.loc[:, ['loss', 'val_loss']].plot()"
   ]
  },
  {
   "cell_type": "code",
   "execution_count": 11,
   "id": "2c08e133",
   "metadata": {
    "execution": {
     "iopub.execute_input": "2022-10-06T18:05:11.532128Z",
     "iopub.status.busy": "2022-10-06T18:05:11.531764Z",
     "iopub.status.idle": "2022-10-06T18:05:13.170801Z",
     "shell.execute_reply": "2022-10-06T18:05:13.169756Z"
    },
    "papermill": {
     "duration": 1.770084,
     "end_time": "2022-10-06T18:05:13.173266",
     "exception": false,
     "start_time": "2022-10-06T18:05:11.403182",
     "status": "completed"
    },
    "tags": []
   },
   "outputs": [],
   "source": [
    "predictions = cnn.predict(test)"
   ]
  },
  {
   "cell_type": "code",
   "execution_count": 12,
   "id": "25e8f9e6",
   "metadata": {
    "execution": {
     "iopub.execute_input": "2022-10-06T18:05:13.427068Z",
     "iopub.status.busy": "2022-10-06T18:05:13.426721Z",
     "iopub.status.idle": "2022-10-06T18:05:13.444262Z",
     "shell.execute_reply": "2022-10-06T18:05:13.443266Z"
    },
    "papermill": {
     "duration": 0.146283,
     "end_time": "2022-10-06T18:05:13.446306",
     "exception": false,
     "start_time": "2022-10-06T18:05:13.300023",
     "status": "completed"
    },
    "tags": []
   },
   "outputs": [
    {
     "data": {
      "text/html": [
       "<div>\n",
       "<style scoped>\n",
       "    .dataframe tbody tr th:only-of-type {\n",
       "        vertical-align: middle;\n",
       "    }\n",
       "\n",
       "    .dataframe tbody tr th {\n",
       "        vertical-align: top;\n",
       "    }\n",
       "\n",
       "    .dataframe thead th {\n",
       "        text-align: right;\n",
       "    }\n",
       "</style>\n",
       "<table border=\"1\" class=\"dataframe\">\n",
       "  <thead>\n",
       "    <tr style=\"text-align: right;\">\n",
       "      <th></th>\n",
       "      <th>Label</th>\n",
       "    </tr>\n",
       "    <tr>\n",
       "      <th>ImageId</th>\n",
       "      <th></th>\n",
       "    </tr>\n",
       "  </thead>\n",
       "  <tbody>\n",
       "    <tr>\n",
       "      <th>1</th>\n",
       "      <td>2</td>\n",
       "    </tr>\n",
       "    <tr>\n",
       "      <th>2</th>\n",
       "      <td>0</td>\n",
       "    </tr>\n",
       "    <tr>\n",
       "      <th>3</th>\n",
       "      <td>9</td>\n",
       "    </tr>\n",
       "    <tr>\n",
       "      <th>4</th>\n",
       "      <td>9</td>\n",
       "    </tr>\n",
       "    <tr>\n",
       "      <th>5</th>\n",
       "      <td>3</td>\n",
       "    </tr>\n",
       "    <tr>\n",
       "      <th>...</th>\n",
       "      <td>...</td>\n",
       "    </tr>\n",
       "    <tr>\n",
       "      <th>27996</th>\n",
       "      <td>9</td>\n",
       "    </tr>\n",
       "    <tr>\n",
       "      <th>27997</th>\n",
       "      <td>7</td>\n",
       "    </tr>\n",
       "    <tr>\n",
       "      <th>27998</th>\n",
       "      <td>3</td>\n",
       "    </tr>\n",
       "    <tr>\n",
       "      <th>27999</th>\n",
       "      <td>9</td>\n",
       "    </tr>\n",
       "    <tr>\n",
       "      <th>28000</th>\n",
       "      <td>2</td>\n",
       "    </tr>\n",
       "  </tbody>\n",
       "</table>\n",
       "<p>28000 rows × 1 columns</p>\n",
       "</div>"
      ],
      "text/plain": [
       "         Label\n",
       "ImageId       \n",
       "1            2\n",
       "2            0\n",
       "3            9\n",
       "4            9\n",
       "5            3\n",
       "...        ...\n",
       "27996        9\n",
       "27997        7\n",
       "27998        3\n",
       "27999        9\n",
       "28000        2\n",
       "\n",
       "[28000 rows x 1 columns]"
      ]
     },
     "execution_count": 12,
     "metadata": {},
     "output_type": "execute_result"
    }
   ],
   "source": [
    "pred_lab = np.argmax(predictions, axis=-1)\n",
    "pred_lab.reshape(28000, 1)\n",
    "\n",
    "pred_df = pd.DataFrame(pred_lab, index=pd.RangeIndex(start=1, stop=len(pred_lab)+1))\n",
    "\n",
    "pred_df.reset_index(inplace=True)\n",
    "pred_df.rename(columns = {'index':'ImageId', 0:'Label'}, inplace = True)\n",
    "\n",
    "pred_df.set_index('ImageId')"
   ]
  },
  {
   "cell_type": "code",
   "execution_count": 13,
   "id": "44c46c75",
   "metadata": {
    "execution": {
     "iopub.execute_input": "2022-10-06T18:05:13.700900Z",
     "iopub.status.busy": "2022-10-06T18:05:13.699976Z",
     "iopub.status.idle": "2022-10-06T18:05:13.731373Z",
     "shell.execute_reply": "2022-10-06T18:05:13.730511Z"
    },
    "papermill": {
     "duration": 0.161137,
     "end_time": "2022-10-06T18:05:13.733529",
     "exception": false,
     "start_time": "2022-10-06T18:05:13.572392",
     "status": "completed"
    },
    "tags": []
   },
   "outputs": [],
   "source": [
    "pred_df.to_csv('Predictions.csv', index=False)"
   ]
  },
  {
   "cell_type": "code",
   "execution_count": null,
   "id": "6eb17fb7",
   "metadata": {
    "papermill": {
     "duration": 0.124761,
     "end_time": "2022-10-06T18:05:14.037167",
     "exception": false,
     "start_time": "2022-10-06T18:05:13.912406",
     "status": "completed"
    },
    "tags": []
   },
   "outputs": [],
   "source": []
  }
 ],
 "metadata": {
  "kernelspec": {
   "display_name": "Python 3",
   "language": "python",
   "name": "python3"
  },
  "language_info": {
   "codemirror_mode": {
    "name": "ipython",
    "version": 3
   },
   "file_extension": ".py",
   "mimetype": "text/x-python",
   "name": "python",
   "nbconvert_exporter": "python",
   "pygments_lexer": "ipython3",
   "version": "3.7.12"
  },
  "papermill": {
   "default_parameters": {},
   "duration": 230.234921,
   "end_time": "2022-10-06T18:05:17.553554",
   "environment_variables": {},
   "exception": null,
   "input_path": "__notebook__.ipynb",
   "output_path": "__notebook__.ipynb",
   "parameters": {},
   "start_time": "2022-10-06T18:01:27.318633",
   "version": "2.3.4"
  }
 },
 "nbformat": 4,
 "nbformat_minor": 5
}
