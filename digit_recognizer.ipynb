{
 "cells": [
  {
   "cell_type": "code",
   "execution_count": 1,
   "id": "125cc222",
   "metadata": {
    "_cell_guid": "b1076dfc-b9ad-4769-8c92-a6c4dae69d19",
    "_uuid": "8f2839f25d086af736a60e9eeb907d3b93b6e0e5",
    "execution": {
     "iopub.execute_input": "2022-10-04T13:34:38.461842Z",
     "iopub.status.busy": "2022-10-04T13:34:38.461361Z",
     "iopub.status.idle": "2022-10-04T13:34:38.475091Z",
     "shell.execute_reply": "2022-10-04T13:34:38.474093Z"
    },
    "papermill": {
     "duration": 0.022517,
     "end_time": "2022-10-04T13:34:38.477725",
     "exception": false,
     "start_time": "2022-10-04T13:34:38.455208",
     "status": "completed"
    },
    "tags": []
   },
   "outputs": [
    {
     "name": "stdout",
     "output_type": "stream",
     "text": [
      "/kaggle/input/digit-recognizer/sample_submission.csv\n",
      "/kaggle/input/digit-recognizer/train.csv\n",
      "/kaggle/input/digit-recognizer/test.csv\n"
     ]
    }
   ],
   "source": [
    "# This Python 3 environment comes with many helpful analytics libraries installed\n",
    "# It is defined by the kaggle/python Docker image: https://github.com/kaggle/docker-python\n",
    "# For example, here's several helpful packages to load\n",
    "\n",
    "import numpy as np # linear algebra\n",
    "import pandas as pd # data processing, CSV file I/O (e.g. pd.read_csv)\n",
    "\n",
    "# Input data files are available in the read-only \"../input/\" directory\n",
    "# For example, running this (by clicking run or pressing Shift+Enter) will list all files under the input directory\n",
    "\n",
    "import os\n",
    "for dirname, _, filenames in os.walk('/kaggle/input'):\n",
    "    for filename in filenames:\n",
    "        print(os.path.join(dirname, filename))\n",
    "\n",
    "# You can write up to 20GB to the current directory (/kaggle/working/) that gets preserved as output when you create a version using \"Save & Run All\" \n",
    "# You can also write temporary files to /kaggle/temp/, but they won't be saved outside of the current session"
   ]
  },
  {
   "cell_type": "code",
   "execution_count": 2,
   "id": "6b546b24",
   "metadata": {
    "execution": {
     "iopub.execute_input": "2022-10-04T13:34:38.486169Z",
     "iopub.status.busy": "2022-10-04T13:34:38.485561Z",
     "iopub.status.idle": "2022-10-04T13:34:42.725645Z",
     "shell.execute_reply": "2022-10-04T13:34:42.724683Z"
    },
    "papermill": {
     "duration": 4.246682,
     "end_time": "2022-10-04T13:34:42.728026",
     "exception": false,
     "start_time": "2022-10-04T13:34:38.481344",
     "status": "completed"
    },
    "tags": []
   },
   "outputs": [],
   "source": [
    "import tensorflow as tf\n",
    "from keras.preprocessing.image import ImageDataGenerator"
   ]
  },
  {
   "cell_type": "code",
   "execution_count": 3,
   "id": "c798e847",
   "metadata": {
    "execution": {
     "iopub.execute_input": "2022-10-04T13:34:42.737619Z",
     "iopub.status.busy": "2022-10-04T13:34:42.736390Z",
     "iopub.status.idle": "2022-10-04T13:34:47.671006Z",
     "shell.execute_reply": "2022-10-04T13:34:47.670032Z"
    },
    "papermill": {
     "duration": 4.941592,
     "end_time": "2022-10-04T13:34:47.673376",
     "exception": false,
     "start_time": "2022-10-04T13:34:42.731784",
     "status": "completed"
    },
    "tags": []
   },
   "outputs": [],
   "source": [
    "x_train = pd.read_csv(\"../input/digit-recognizer/train.csv\")\n",
    "x_test = pd.read_csv(\"../input/digit-recognizer/test.csv\")"
   ]
  },
  {
   "cell_type": "code",
   "execution_count": 4,
   "id": "c94a3eb2",
   "metadata": {
    "execution": {
     "iopub.execute_input": "2022-10-04T13:34:47.682330Z",
     "iopub.status.busy": "2022-10-04T13:34:47.682010Z",
     "iopub.status.idle": "2022-10-04T13:34:47.686593Z",
     "shell.execute_reply": "2022-10-04T13:34:47.685558Z"
    },
    "papermill": {
     "duration": 0.011841,
     "end_time": "2022-10-04T13:34:47.688970",
     "exception": false,
     "start_time": "2022-10-04T13:34:47.677129",
     "status": "completed"
    },
    "tags": []
   },
   "outputs": [],
   "source": [
    "X = x_train.values"
   ]
  },
  {
   "cell_type": "code",
   "execution_count": 5,
   "id": "ae10bb2c",
   "metadata": {
    "execution": {
     "iopub.execute_input": "2022-10-04T13:34:47.697296Z",
     "iopub.status.busy": "2022-10-04T13:34:47.697028Z",
     "iopub.status.idle": "2022-10-04T13:34:47.701281Z",
     "shell.execute_reply": "2022-10-04T13:34:47.700392Z"
    },
    "papermill": {
     "duration": 0.010717,
     "end_time": "2022-10-04T13:34:47.703288",
     "exception": false,
     "start_time": "2022-10-04T13:34:47.692571",
     "status": "completed"
    },
    "tags": []
   },
   "outputs": [],
   "source": [
    "y = X[:, 0]\n",
    "X = X[:, 1:]\n",
    "X = X.reshape(42000, 28, 28, 1)"
   ]
  },
  {
   "cell_type": "code",
   "execution_count": 6,
   "id": "760bd104",
   "metadata": {
    "execution": {
     "iopub.execute_input": "2022-10-04T13:34:47.711249Z",
     "iopub.status.busy": "2022-10-04T13:34:47.710985Z",
     "iopub.status.idle": "2022-10-04T13:34:47.715204Z",
     "shell.execute_reply": "2022-10-04T13:34:47.714337Z"
    },
    "papermill": {
     "duration": 0.010672,
     "end_time": "2022-10-04T13:34:47.717319",
     "exception": false,
     "start_time": "2022-10-04T13:34:47.706647",
     "status": "completed"
    },
    "tags": []
   },
   "outputs": [],
   "source": [
    "test = x_test.values\n",
    "test = test[:, np.newaxis]\n",
    "test = test.reshape(28000, 28, 28, 1)"
   ]
  },
  {
   "cell_type": "code",
   "execution_count": 7,
   "id": "b0436df9",
   "metadata": {
    "execution": {
     "iopub.execute_input": "2022-10-04T13:34:47.725208Z",
     "iopub.status.busy": "2022-10-04T13:34:47.724957Z",
     "iopub.status.idle": "2022-10-04T13:34:47.729672Z",
     "shell.execute_reply": "2022-10-04T13:34:47.728880Z"
    },
    "papermill": {
     "duration": 0.011268,
     "end_time": "2022-10-04T13:34:47.731934",
     "exception": false,
     "start_time": "2022-10-04T13:34:47.720666",
     "status": "completed"
    },
    "tags": []
   },
   "outputs": [],
   "source": [
    "#TODO: Image augmentation"
   ]
  },
  {
   "cell_type": "code",
   "execution_count": 8,
   "id": "c6524b57",
   "metadata": {
    "execution": {
     "iopub.execute_input": "2022-10-04T13:34:47.740019Z",
     "iopub.status.busy": "2022-10-04T13:34:47.739756Z",
     "iopub.status.idle": "2022-10-04T13:34:50.246027Z",
     "shell.execute_reply": "2022-10-04T13:34:50.245135Z"
    },
    "papermill": {
     "duration": 2.512956,
     "end_time": "2022-10-04T13:34:50.248322",
     "exception": false,
     "start_time": "2022-10-04T13:34:47.735366",
     "status": "completed"
    },
    "tags": []
   },
   "outputs": [
    {
     "name": "stderr",
     "output_type": "stream",
     "text": [
      "2022-10-04 13:34:48.076565: I tensorflow/stream_executor/cuda/cuda_gpu_executor.cc:937] successful NUMA node read from SysFS had negative value (-1), but there must be at least one NUMA node, so returning NUMA node zero\n",
      "2022-10-04 13:34:48.156799: I tensorflow/stream_executor/cuda/cuda_gpu_executor.cc:937] successful NUMA node read from SysFS had negative value (-1), but there must be at least one NUMA node, so returning NUMA node zero\n",
      "2022-10-04 13:34:48.157581: I tensorflow/stream_executor/cuda/cuda_gpu_executor.cc:937] successful NUMA node read from SysFS had negative value (-1), but there must be at least one NUMA node, so returning NUMA node zero\n",
      "2022-10-04 13:34:48.159314: I tensorflow/core/platform/cpu_feature_guard.cc:142] This TensorFlow binary is optimized with oneAPI Deep Neural Network Library (oneDNN) to use the following CPU instructions in performance-critical operations:  AVX2 AVX512F FMA\n",
      "To enable them in other operations, rebuild TensorFlow with the appropriate compiler flags.\n",
      "2022-10-04 13:34:48.159687: I tensorflow/stream_executor/cuda/cuda_gpu_executor.cc:937] successful NUMA node read from SysFS had negative value (-1), but there must be at least one NUMA node, so returning NUMA node zero\n",
      "2022-10-04 13:34:48.160602: I tensorflow/stream_executor/cuda/cuda_gpu_executor.cc:937] successful NUMA node read from SysFS had negative value (-1), but there must be at least one NUMA node, so returning NUMA node zero\n",
      "2022-10-04 13:34:48.161459: I tensorflow/stream_executor/cuda/cuda_gpu_executor.cc:937] successful NUMA node read from SysFS had negative value (-1), but there must be at least one NUMA node, so returning NUMA node zero\n",
      "2022-10-04 13:34:49.830093: I tensorflow/stream_executor/cuda/cuda_gpu_executor.cc:937] successful NUMA node read from SysFS had negative value (-1), but there must be at least one NUMA node, so returning NUMA node zero\n",
      "2022-10-04 13:34:49.830975: I tensorflow/stream_executor/cuda/cuda_gpu_executor.cc:937] successful NUMA node read from SysFS had negative value (-1), but there must be at least one NUMA node, so returning NUMA node zero\n",
      "2022-10-04 13:34:49.831643: I tensorflow/stream_executor/cuda/cuda_gpu_executor.cc:937] successful NUMA node read from SysFS had negative value (-1), but there must be at least one NUMA node, so returning NUMA node zero\n",
      "2022-10-04 13:34:49.832236: I tensorflow/core/common_runtime/gpu/gpu_device.cc:1510] Created device /job:localhost/replica:0/task:0/device:GPU:0 with 15401 MB memory:  -> device: 0, name: Tesla P100-PCIE-16GB, pci bus id: 0000:00:04.0, compute capability: 6.0\n"
     ]
    }
   ],
   "source": [
    "cnn = tf.keras.models.Sequential()\n",
    "\n",
    "#Convolutional layer\n",
    "cnn.add(tf.keras.layers.Conv2D(\n",
    "    filters=32,\n",
    "    kernel_size=3,\n",
    "    activation='relu',\n",
    "    input_shape=([28, 28, 1])))\n",
    "\n",
    "#Max pooling\n",
    "cnn.add(tf.keras.layers.MaxPool2D(\n",
    "    pool_size=2,\n",
    "    strides=2))\n",
    "\n",
    "#Second convolutional layer\n",
    "cnn.add(tf.keras.layers.Conv2D(\n",
    "    filters=32,\n",
    "    kernel_size=3,\n",
    "    activation='relu'))\n",
    "cnn.add(tf.keras.layers.MaxPool2D(\n",
    "    pool_size=2,\n",
    "    strides=2))\n",
    "\n",
    "#Flattening layer\n",
    "\n",
    "cnn.add(tf.keras.layers.Flatten())\n",
    "\n",
    "\n",
    "#ANN/full connection\n",
    "\n",
    "cnn.add(tf.keras.layers.Dense(\n",
    "    units=128,\n",
    "    activation='relu'))\n",
    "\n",
    "#Output layer\n",
    "\n",
    "cnn.add(tf.keras.layers.Dense(\n",
    "    units=10,\n",
    "    activation='softmax'))\n"
   ]
  },
  {
   "cell_type": "code",
   "execution_count": 9,
   "id": "e4dca099",
   "metadata": {
    "execution": {
     "iopub.execute_input": "2022-10-04T13:34:50.258540Z",
     "iopub.status.busy": "2022-10-04T13:34:50.257083Z",
     "iopub.status.idle": "2022-10-04T13:36:28.744419Z",
     "shell.execute_reply": "2022-10-04T13:36:28.743493Z"
    },
    "papermill": {
     "duration": 98.494196,
     "end_time": "2022-10-04T13:36:28.746450",
     "exception": false,
     "start_time": "2022-10-04T13:34:50.252254",
     "status": "completed"
    },
    "tags": []
   },
   "outputs": [
    {
     "name": "stderr",
     "output_type": "stream",
     "text": [
      "2022-10-04 13:34:51.066699: I tensorflow/compiler/mlir/mlir_graph_optimization_pass.cc:185] None of the MLIR Optimization Passes are enabled (registered 2)\n"
     ]
    },
    {
     "name": "stdout",
     "output_type": "stream",
     "text": [
      "Epoch 1/25\n"
     ]
    },
    {
     "name": "stderr",
     "output_type": "stream",
     "text": [
      "2022-10-04 13:34:52.203427: I tensorflow/stream_executor/cuda/cuda_dnn.cc:369] Loaded cuDNN version 8005\n"
     ]
    },
    {
     "name": "stdout",
     "output_type": "stream",
     "text": [
      "1313/1313 [==============================] - 10s 3ms/step - loss: 0.4642 - accuracy: 0.9320\n",
      "Epoch 2/25\n",
      "1313/1313 [==============================] - 4s 3ms/step - loss: 0.0757 - accuracy: 0.9777\n",
      "Epoch 3/25\n",
      "1313/1313 [==============================] - 4s 3ms/step - loss: 0.0541 - accuracy: 0.9833\n",
      "Epoch 4/25\n",
      "1313/1313 [==============================] - 4s 3ms/step - loss: 0.0458 - accuracy: 0.9860\n",
      "Epoch 5/25\n",
      "1313/1313 [==============================] - 3s 3ms/step - loss: 0.0406 - accuracy: 0.9876\n",
      "Epoch 6/25\n",
      "1313/1313 [==============================] - 4s 3ms/step - loss: 0.0357 - accuracy: 0.9893\n",
      "Epoch 7/25\n",
      "1313/1313 [==============================] - 3s 3ms/step - loss: 0.0305 - accuracy: 0.9908\n",
      "Epoch 8/25\n",
      "1313/1313 [==============================] - 4s 3ms/step - loss: 0.0275 - accuracy: 0.9920\n",
      "Epoch 9/25\n",
      "1313/1313 [==============================] - 4s 3ms/step - loss: 0.0242 - accuracy: 0.9925\n",
      "Epoch 10/25\n",
      "1313/1313 [==============================] - 4s 3ms/step - loss: 0.0252 - accuracy: 0.9926\n",
      "Epoch 11/25\n",
      "1313/1313 [==============================] - 4s 3ms/step - loss: 0.0219 - accuracy: 0.9937\n",
      "Epoch 12/25\n",
      "1313/1313 [==============================] - 4s 3ms/step - loss: 0.0162 - accuracy: 0.9954\n",
      "Epoch 13/25\n",
      "1313/1313 [==============================] - 4s 3ms/step - loss: 0.0185 - accuracy: 0.9948\n",
      "Epoch 14/25\n",
      "1313/1313 [==============================] - 3s 3ms/step - loss: 0.0208 - accuracy: 0.9943\n",
      "Epoch 15/25\n",
      "1313/1313 [==============================] - 4s 3ms/step - loss: 0.0187 - accuracy: 0.9946\n",
      "Epoch 16/25\n",
      "1313/1313 [==============================] - 4s 3ms/step - loss: 0.0177 - accuracy: 0.9956\n",
      "Epoch 17/25\n",
      "1313/1313 [==============================] - 4s 3ms/step - loss: 0.0136 - accuracy: 0.9965\n",
      "Epoch 18/25\n",
      "1313/1313 [==============================] - 4s 3ms/step - loss: 0.0179 - accuracy: 0.9953\n",
      "Epoch 19/25\n",
      "1313/1313 [==============================] - 4s 3ms/step - loss: 0.0175 - accuracy: 0.9965\n",
      "Epoch 20/25\n",
      "1313/1313 [==============================] - 3s 3ms/step - loss: 0.0124 - accuracy: 0.9970\n",
      "Epoch 21/25\n",
      "1313/1313 [==============================] - 4s 3ms/step - loss: 0.0181 - accuracy: 0.9960\n",
      "Epoch 22/25\n",
      "1313/1313 [==============================] - 3s 3ms/step - loss: 0.0157 - accuracy: 0.9963\n",
      "Epoch 23/25\n",
      "1313/1313 [==============================] - 4s 3ms/step - loss: 0.0164 - accuracy: 0.9965\n",
      "Epoch 24/25\n",
      "1313/1313 [==============================] - 4s 3ms/step - loss: 0.0121 - accuracy: 0.9974\n",
      "Epoch 25/25\n",
      "1313/1313 [==============================] - 3s 3ms/step - loss: 0.0191 - accuracy: 0.9959\n"
     ]
    },
    {
     "data": {
      "text/plain": [
       "<keras.callbacks.History at 0x7f4f301ccd50>"
      ]
     },
     "execution_count": 9,
     "metadata": {},
     "output_type": "execute_result"
    }
   ],
   "source": [
    "#compiling\n",
    "cnn.compile(\n",
    "    optimizer='adam',\n",
    "    loss='sparse_categorical_crossentropy',\n",
    "    metrics=['accuracy'])\n",
    "\n",
    "#training\n",
    "cnn.fit(\n",
    "    x=X,\n",
    "    y = y,\n",
    "    epochs=25)"
   ]
  },
  {
   "cell_type": "code",
   "execution_count": 10,
   "id": "a389611a",
   "metadata": {
    "execution": {
     "iopub.execute_input": "2022-10-04T13:36:28.937944Z",
     "iopub.status.busy": "2022-10-04T13:36:28.936050Z",
     "iopub.status.idle": "2022-10-04T13:36:30.703205Z",
     "shell.execute_reply": "2022-10-04T13:36:30.702183Z"
    },
    "papermill": {
     "duration": 1.864969,
     "end_time": "2022-10-04T13:36:30.705671",
     "exception": false,
     "start_time": "2022-10-04T13:36:28.840702",
     "status": "completed"
    },
    "tags": []
   },
   "outputs": [],
   "source": [
    "predictions = cnn.predict(test)"
   ]
  },
  {
   "cell_type": "code",
   "execution_count": 11,
   "id": "76272f64",
   "metadata": {
    "execution": {
     "iopub.execute_input": "2022-10-04T13:36:30.893216Z",
     "iopub.status.busy": "2022-10-04T13:36:30.892860Z",
     "iopub.status.idle": "2022-10-04T13:36:30.900730Z",
     "shell.execute_reply": "2022-10-04T13:36:30.899700Z"
    },
    "papermill": {
     "duration": 0.103699,
     "end_time": "2022-10-04T13:36:30.902962",
     "exception": false,
     "start_time": "2022-10-04T13:36:30.799263",
     "status": "completed"
    },
    "tags": []
   },
   "outputs": [
    {
     "data": {
      "text/plain": [
       "array([[2],\n",
       "       [0],\n",
       "       [9],\n",
       "       ...,\n",
       "       [3],\n",
       "       [9],\n",
       "       [2]])"
      ]
     },
     "execution_count": 11,
     "metadata": {},
     "output_type": "execute_result"
    }
   ],
   "source": [
    "pred_lab = np.argmax(predictions, axis=-1)\n",
    "pred_lab.reshape(28000, 1)"
   ]
  },
  {
   "cell_type": "code",
   "execution_count": 12,
   "id": "2a03592a",
   "metadata": {
    "execution": {
     "iopub.execute_input": "2022-10-04T13:36:31.089446Z",
     "iopub.status.busy": "2022-10-04T13:36:31.089115Z",
     "iopub.status.idle": "2022-10-04T13:36:31.094302Z",
     "shell.execute_reply": "2022-10-04T13:36:31.093267Z"
    },
    "papermill": {
     "duration": 0.101621,
     "end_time": "2022-10-04T13:36:31.096656",
     "exception": false,
     "start_time": "2022-10-04T13:36:30.995035",
     "status": "completed"
    },
    "tags": []
   },
   "outputs": [],
   "source": [
    "pred_df = pd.DataFrame(pred_lab, index=pd.RangeIndex(start=1, stop=len(pred_lab)+1))"
   ]
  },
  {
   "cell_type": "code",
   "execution_count": 13,
   "id": "b622ac33",
   "metadata": {
    "execution": {
     "iopub.execute_input": "2022-10-04T13:36:31.315283Z",
     "iopub.status.busy": "2022-10-04T13:36:31.314925Z",
     "iopub.status.idle": "2022-10-04T13:36:31.326277Z",
     "shell.execute_reply": "2022-10-04T13:36:31.325383Z"
    },
    "papermill": {
     "duration": 0.138737,
     "end_time": "2022-10-04T13:36:31.328400",
     "exception": false,
     "start_time": "2022-10-04T13:36:31.189663",
     "status": "completed"
    },
    "tags": []
   },
   "outputs": [],
   "source": [
    "pred_df.reset_index(inplace=True)\n",
    "pred_df.rename(columns = {'index':'ImageId', 0:'Label'}, inplace = True)"
   ]
  },
  {
   "cell_type": "code",
   "execution_count": 14,
   "id": "3035572c",
   "metadata": {
    "execution": {
     "iopub.execute_input": "2022-10-04T13:36:31.517037Z",
     "iopub.status.busy": "2022-10-04T13:36:31.516690Z",
     "iopub.status.idle": "2022-10-04T13:36:31.532758Z",
     "shell.execute_reply": "2022-10-04T13:36:31.531701Z"
    },
    "papermill": {
     "duration": 0.112963,
     "end_time": "2022-10-04T13:36:31.535016",
     "exception": false,
     "start_time": "2022-10-04T13:36:31.422053",
     "status": "completed"
    },
    "tags": []
   },
   "outputs": [
    {
     "data": {
      "text/html": [
       "<div>\n",
       "<style scoped>\n",
       "    .dataframe tbody tr th:only-of-type {\n",
       "        vertical-align: middle;\n",
       "    }\n",
       "\n",
       "    .dataframe tbody tr th {\n",
       "        vertical-align: top;\n",
       "    }\n",
       "\n",
       "    .dataframe thead th {\n",
       "        text-align: right;\n",
       "    }\n",
       "</style>\n",
       "<table border=\"1\" class=\"dataframe\">\n",
       "  <thead>\n",
       "    <tr style=\"text-align: right;\">\n",
       "      <th></th>\n",
       "      <th>Label</th>\n",
       "    </tr>\n",
       "    <tr>\n",
       "      <th>ImageId</th>\n",
       "      <th></th>\n",
       "    </tr>\n",
       "  </thead>\n",
       "  <tbody>\n",
       "    <tr>\n",
       "      <th>1</th>\n",
       "      <td>2</td>\n",
       "    </tr>\n",
       "    <tr>\n",
       "      <th>2</th>\n",
       "      <td>0</td>\n",
       "    </tr>\n",
       "    <tr>\n",
       "      <th>3</th>\n",
       "      <td>9</td>\n",
       "    </tr>\n",
       "    <tr>\n",
       "      <th>4</th>\n",
       "      <td>0</td>\n",
       "    </tr>\n",
       "    <tr>\n",
       "      <th>5</th>\n",
       "      <td>3</td>\n",
       "    </tr>\n",
       "    <tr>\n",
       "      <th>...</th>\n",
       "      <td>...</td>\n",
       "    </tr>\n",
       "    <tr>\n",
       "      <th>27996</th>\n",
       "      <td>9</td>\n",
       "    </tr>\n",
       "    <tr>\n",
       "      <th>27997</th>\n",
       "      <td>7</td>\n",
       "    </tr>\n",
       "    <tr>\n",
       "      <th>27998</th>\n",
       "      <td>3</td>\n",
       "    </tr>\n",
       "    <tr>\n",
       "      <th>27999</th>\n",
       "      <td>9</td>\n",
       "    </tr>\n",
       "    <tr>\n",
       "      <th>28000</th>\n",
       "      <td>2</td>\n",
       "    </tr>\n",
       "  </tbody>\n",
       "</table>\n",
       "<p>28000 rows × 1 columns</p>\n",
       "</div>"
      ],
      "text/plain": [
       "         Label\n",
       "ImageId       \n",
       "1            2\n",
       "2            0\n",
       "3            9\n",
       "4            0\n",
       "5            3\n",
       "...        ...\n",
       "27996        9\n",
       "27997        7\n",
       "27998        3\n",
       "27999        9\n",
       "28000        2\n",
       "\n",
       "[28000 rows x 1 columns]"
      ]
     },
     "execution_count": 14,
     "metadata": {},
     "output_type": "execute_result"
    }
   ],
   "source": [
    "pred_df.set_index('ImageId')"
   ]
  },
  {
   "cell_type": "code",
   "execution_count": 15,
   "id": "395f32cf",
   "metadata": {
    "execution": {
     "iopub.execute_input": "2022-10-04T13:36:31.726646Z",
     "iopub.status.busy": "2022-10-04T13:36:31.726268Z",
     "iopub.status.idle": "2022-10-04T13:36:31.765798Z",
     "shell.execute_reply": "2022-10-04T13:36:31.764856Z"
    },
    "papermill": {
     "duration": 0.136851,
     "end_time": "2022-10-04T13:36:31.767859",
     "exception": false,
     "start_time": "2022-10-04T13:36:31.631008",
     "status": "completed"
    },
    "tags": []
   },
   "outputs": [],
   "source": [
    "pred_df.to_csv('Predictions.csv')"
   ]
  }
 ],
 "metadata": {
  "kernelspec": {
   "display_name": "Python 3",
   "language": "python",
   "name": "python3"
  },
  "language_info": {
   "codemirror_mode": {
    "name": "ipython",
    "version": 3
   },
   "file_extension": ".py",
   "mimetype": "text/x-python",
   "name": "python",
   "nbconvert_exporter": "python",
   "pygments_lexer": "ipython3",
   "version": "3.7.12"
  },
  "papermill": {
   "default_parameters": {},
   "duration": 124.225326,
   "end_time": "2022-10-04T13:36:35.138125",
   "environment_variables": {},
   "exception": null,
   "input_path": "__notebook__.ipynb",
   "output_path": "__notebook__.ipynb",
   "parameters": {},
   "start_time": "2022-10-04T13:34:30.912799",
   "version": "2.3.4"
  }
 },
 "nbformat": 4,
 "nbformat_minor": 5
}
